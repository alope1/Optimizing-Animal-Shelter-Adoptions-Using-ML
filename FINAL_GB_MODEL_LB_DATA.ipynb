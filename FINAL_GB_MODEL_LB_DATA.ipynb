{
  "nbformat": 4,
  "nbformat_minor": 0,
  "metadata": {
    "colab": {
      "provenance": []
    },
    "kernelspec": {
      "name": "python3",
      "display_name": "Python 3"
    },
    "language_info": {
      "name": "python"
    }
  },
  "cells": [
    {
      "cell_type": "code",
      "source": [
        "import pandas as pd\n",
        "import numpy as np\n",
        "import matplotlib.pyplot as plt\n",
        "import seaborn as sns\n",
        "from sklearn.model_selection import train_test_split\n",
        "from sklearn.metrics import classification_report, confusion_matrix, roc_auc_score, accuracy_score, precision_recall_curve, roc_curve\n",
        "from sklearn.preprocessing import StandardScaler, MinMaxScaler\n",
        "from sklearn.ensemble import GradientBoostingClassifier\n",
        "from sklearn.model_selection import GridSearchCV, cross_val_score\n",
        "from imblearn.over_sampling import SMOTE\n",
        "from sklearn.impute import KNNImputer"
      ],
      "metadata": {
        "id": "RvlY63O7cs-W"
      },
      "execution_count": 1,
      "outputs": []
    },
    {
      "cell_type": "code",
      "source": [
        "from google.colab import drive\n",
        "drive.mount('/content/drive')"
      ],
      "metadata": {
        "colab": {
          "base_uri": "https://localhost:8080/"
        },
        "id": "WnNLSmeTZYQ0",
        "outputId": "967417da-4130-41fd-c3de-1a0763d2207a"
      },
      "execution_count": 2,
      "outputs": [
        {
          "output_type": "stream",
          "name": "stdout",
          "text": [
            "Drive already mounted at /content/drive; to attempt to forcibly remount, call drive.mount(\"/content/drive\", force_remount=True).\n"
          ]
        }
      ]
    },
    {
      "cell_type": "code",
      "source": [
        "# Load data\n",
        "data = pd.read_csv('/content/drive/MyDrive/animal shelter LB/animal-shelter-intakes-and-outcomes (1).csv')\n",
        "print(data.head())"
      ],
      "metadata": {
        "colab": {
          "base_uri": "https://localhost:8080/"
        },
        "id": "HVWU0tVMctAi",
        "outputId": "f62dc26d-c6ae-4708-9a26-b96a94b59f7d"
      },
      "execution_count": 3,
      "outputs": [
        {
          "output_type": "stream",
          "name": "stdout",
          "text": [
            "  Animal ID            Animal Name Animal Type Primary Color Secondary Color  \\\n",
            "0   A664584  *OLD ENDLISH GAME HEN        BIRD         BROWN             RED   \n",
            "1   A632112                 *PATSY         CAT         BLACK             NaN   \n",
            "2   A613531                    NaN         DOG         WHITE             NaN   \n",
            "3   A626772                 BOOGIE         DOG         BROWN            GRAY   \n",
            "4   A626773                   GIGI         DOG         BLACK             NaN   \n",
            "\n",
            "       Sex         DOB Intake Date Intake Condition      Intake Type  ...  \\\n",
            "0   Female         NaN  2021-09-28           NORMAL            STRAY  ...   \n",
            "1   Female  2019-06-11  2019-08-17           NORMAL            STRAY  ...   \n",
            "2     Male  2017-11-23  2018-08-23           NORMAL            STRAY  ...   \n",
            "3  Unknown  2012-05-22  2019-05-22           NORMAL  OWNER SURRENDER  ...   \n",
            "4  Unknown  2016-05-22  2019-05-22           NORMAL  OWNER SURRENDER  ...   \n",
            "\n",
            "                                   Crossing Jurisdiction Outcome Type  \\\n",
            "0   300 BLK E 63RD ST, LONG BEACH, CA 90802   LONG BEACH       RESCUE   \n",
            "1  300 BLK E 67TH ST, LOPNG BEACH, CA 90805   LONG BEACH     TRANSFER   \n",
            "2   300 BLK E 69TH ST, LONG BEACH, CA 90805   LONG BEACH     TRANSFER   \n",
            "3    300 BLK E 9TH ST, LONG BEACH, CA 90813   LONG BEACH     TRANSFER   \n",
            "4    300 BLK E 9TH ST, LONG BEACH, CA 90813   LONG BEACH     TRANSFER   \n",
            "\n",
            "  Outcome Subtype   latitude   longitude   intake_is_dead  outcome_is_dead  \\\n",
            "0             NaN  33.868957 -118.190873  Alive on Intake            False   \n",
            "1          SPCALA  33.875895 -118.196623  Alive on Intake            False   \n",
            "2          SPCALA  33.879157 -118.197160  Alive on Intake            False   \n",
            "3          SPCALA  33.777762 -118.189277  Alive on Intake            False   \n",
            "4          SPCALA  33.777762 -118.189277  Alive on Intake            False   \n",
            "\n",
            "   was_outcome_alive                  geopoint  \n",
            "0                  1  33.8689566, -118.1908733  \n",
            "1                  1  33.8758955, -118.1966233  \n",
            "2                  1   33.879157, -118.1971601  \n",
            "3                  1  33.7777617, -118.1892769  \n",
            "4                  1  33.7777617, -118.1892769  \n",
            "\n",
            "[5 rows x 23 columns]\n"
          ]
        }
      ]
    },
    {
      "cell_type": "code",
      "source": [
        "print(data.describe())"
      ],
      "metadata": {
        "id": "QGDIyv8mhunE",
        "colab": {
          "base_uri": "https://localhost:8080/"
        },
        "outputId": "e1121388-d72a-4bcb-a43b-b10ac6b09038"
      },
      "execution_count": 4,
      "outputs": [
        {
          "output_type": "stream",
          "name": "stdout",
          "text": [
            "           latitude     longitude  was_outcome_alive\n",
            "count  27199.000000  27199.000000       27199.000000\n",
            "mean      33.814893   -118.147658           0.793522\n",
            "std        0.152578      0.570708           0.404785\n",
            "min       19.297815   -121.662622           0.000000\n",
            "25%       33.784158   -118.190353           1.000000\n",
            "50%       33.807294   -118.173076           1.000000\n",
            "75%       33.851168   -118.127996           1.000000\n",
            "max       40.304278    -73.992360           1.000000\n"
          ]
        }
      ]
    },
    {
      "cell_type": "code",
      "source": [
        "data.info()  # summary of the DataFrame including column names and data types"
      ],
      "metadata": {
        "id": "0oe17fGEh5Er",
        "colab": {
          "base_uri": "https://localhost:8080/"
        },
        "outputId": "21322379-c319-49ed-c06b-35cb902b1562"
      },
      "execution_count": 5,
      "outputs": [
        {
          "output_type": "stream",
          "name": "stdout",
          "text": [
            "<class 'pandas.core.frame.DataFrame'>\n",
            "RangeIndex: 27199 entries, 0 to 27198\n",
            "Data columns (total 23 columns):\n",
            " #   Column             Non-Null Count  Dtype  \n",
            "---  ------             --------------  -----  \n",
            " 0   Animal ID          27199 non-null  object \n",
            " 1   Animal Name        15705 non-null  object \n",
            " 2   Animal Type        27199 non-null  object \n",
            " 3   Primary Color      27199 non-null  object \n",
            " 4   Secondary Color    12936 non-null  object \n",
            " 5   Sex                27199 non-null  object \n",
            " 6   DOB                23851 non-null  object \n",
            " 7   Intake Date        27199 non-null  object \n",
            " 8   Intake Condition   27199 non-null  object \n",
            " 9   Intake Type        27199 non-null  object \n",
            " 10  Intake Subtype     26886 non-null  object \n",
            " 11  Reason for Intake  1866 non-null   object \n",
            " 12  Outcome Date       27029 non-null  object \n",
            " 13  Crossing           27199 non-null  object \n",
            " 14  Jurisdiction       27199 non-null  object \n",
            " 15  Outcome Type       27027 non-null  object \n",
            " 16  Outcome Subtype    23907 non-null  object \n",
            " 17  latitude           27199 non-null  float64\n",
            " 18  longitude          27199 non-null  float64\n",
            " 19  intake_is_dead     27199 non-null  object \n",
            " 20  outcome_is_dead    27199 non-null  bool   \n",
            " 21  was_outcome_alive  27199 non-null  int64  \n",
            " 22  geopoint           27199 non-null  object \n",
            "dtypes: bool(1), float64(2), int64(1), object(19)\n",
            "memory usage: 4.6+ MB\n"
          ]
        }
      ]
    },
    {
      "cell_type": "code",
      "source": [
        "# Visualize the distribution of the target variable 'Outcome Type'\n",
        "plt.figure(figsize=(10, 6))\n",
        "outcome_counts = data['Outcome Type'].value_counts()\n",
        "sns.barplot(x=outcome_counts.index, y=outcome_counts.values)\n",
        "plt.title('Distribution of Outcome Types')\n",
        "plt.ylabel('Number of Occurrences', fontsize=12)\n",
        "plt.xlabel('Outcome Type', fontsize=12)\n",
        "plt.xticks(rotation=90)\n",
        "plt.show()"
      ],
      "metadata": {
        "id": "WgoUXPmKh9Ks",
        "colab": {
          "base_uri": "https://localhost:8080/",
          "height": 745
        },
        "outputId": "83e76eb9-f1bc-4b00-dee7-972747eb387e"
      },
      "execution_count": 6,
      "outputs": [
        {
          "output_type": "display_data",
          "data": {
            "text/plain": [
              "<Figure size 1000x600 with 1 Axes>"
            ],
            "image/png": "[encoded data removed]"
          },
          "metadata": {}
        }
      ]
    },
    {
      "cell_type": "code",
      "source": [
        "# Check for any missing values in the dataset\n",
        "missing_values = data.isnull().sum()\n",
        "print(missing_values)"
      ],
      "metadata": {
        "id": "Cau6AjqYhzT5",
        "colab": {
          "base_uri": "https://localhost:8080/"
        },
        "outputId": "98ce79f0-f371-4dd5-cb23-6bd238967fbe"
      },
      "execution_count": 7,
      "outputs": [
        {
          "output_type": "stream",
          "name": "stdout",
          "text": [
            "Animal ID                0\n",
            "Animal Name          11494\n",
            "Animal Type              0\n",
            "Primary Color            0\n",
            "Secondary Color      14263\n",
            "Sex                      0\n",
            "DOB                   3348\n",
            "Intake Date              0\n",
            "Intake Condition         0\n",
            "Intake Type              0\n",
            "Intake Subtype         313\n",
            "Reason for Intake    25333\n",
            "Outcome Date           170\n",
            "Crossing                 0\n",
            "Jurisdiction             0\n",
            "Outcome Type           172\n",
            "Outcome Subtype       3292\n",
            "latitude                 0\n",
            "longitude                0\n",
            "intake_is_dead           0\n",
            "outcome_is_dead          0\n",
            "was_outcome_alive        0\n",
            "geopoint                 0\n",
            "dtype: int64\n"
          ]
        }
      ]
    },
    {
      "cell_type": "code",
      "source": [
        "# Convert 'Intake Date' and 'Outcome Date' to datetime and create 'Days in Shelter'\n",
        "data['Intake Date'] = pd.to_datetime(data['Intake Date'])\n",
        "data['Outcome Date'] = pd.to_datetime(data['Outcome Date'])\n",
        "data['Days in Shelter'] = (data['Outcome Date'] - data['Intake Date']).dt.days\n"
      ],
      "metadata": {
        "id": "Va02fD2ActEs"
      },
      "execution_count": 8,
      "outputs": []
    },
    {
      "cell_type": "code",
      "source": [
        "# Advanced Feature Engineering: Age at intake\n",
        "data['DOB'] = pd.to_datetime(data['DOB'])\n",
        "data['Age at Intake (days)'] = (data['Intake Date'] - data['DOB']).dt.days"
      ],
      "metadata": {
        "id": "LAy3y7W0ctGy"
      },
      "execution_count": 9,
      "outputs": []
    },
    {
      "cell_type": "code",
      "source": [
        "# Impute missing values using KNN for numerical columns\n",
        "knn_imputer = KNNImputer(n_neighbors=5)\n",
        "data[['Age at Intake (days)']] = knn_imputer.fit_transform(data[['Age at Intake (days)']])\n",
        "print(\"Missing values for 'Age at Intake (days)' imputed.\")"
      ],
      "metadata": {
        "id": "LADvQ7wnctIy",
        "colab": {
          "base_uri": "https://localhost:8080/"
        },
        "outputId": "3a0891fe-efcd-4cb1-9eaa-d5038a268e16"
      },
      "execution_count": 10,
      "outputs": [
        {
          "output_type": "stream",
          "name": "stdout",
          "text": [
            "Missing values for 'Age at Intake (days)' imputed.\n"
          ]
        }
      ]
    },
    {
      "cell_type": "code",
      "source": [
        "# Drop rows where 'Outcome Date' or 'Outcome Type' is missing\n",
        "data.dropna(subset=['Outcome Date', 'Outcome Type'], inplace=True)\n",
        "print(data.info())"
      ],
      "metadata": {
        "id": "5x6qjYOlctKy",
        "colab": {
          "base_uri": "https://localhost:8080/"
        },
        "outputId": "b0df4b46-4b16-41ae-ec4a-3c522cbc1e9b"
      },
      "execution_count": 11,
      "outputs": [
        {
          "output_type": "stream",
          "name": "stdout",
          "text": [
            "<class 'pandas.core.frame.DataFrame'>\n",
            "Index: 27027 entries, 0 to 27198\n",
            "Data columns (total 25 columns):\n",
            " #   Column                Non-Null Count  Dtype         \n",
            "---  ------                --------------  -----         \n",
            " 0   Animal ID             27027 non-null  object        \n",
            " 1   Animal Name           15575 non-null  object        \n",
            " 2   Animal Type           27027 non-null  object        \n",
            " 3   Primary Color         27027 non-null  object        \n",
            " 4   Secondary Color       12845 non-null  object        \n",
            " 5   Sex                   27027 non-null  object        \n",
            " 6   DOB                   23681 non-null  datetime64[ns]\n",
            " 7   Intake Date           27027 non-null  datetime64[ns]\n",
            " 8   Intake Condition      27027 non-null  object        \n",
            " 9   Intake Type           27027 non-null  object        \n",
            " 10  Intake Subtype        26725 non-null  object        \n",
            " 11  Reason for Intake     1851 non-null   object        \n",
            " 12  Outcome Date          27027 non-null  datetime64[ns]\n",
            " 13  Crossing              27027 non-null  object        \n",
            " 14  Jurisdiction          27027 non-null  object        \n",
            " 15  Outcome Type          27027 non-null  object        \n",
            " 16  Outcome Subtype       23907 non-null  object        \n",
            " 17  latitude              27027 non-null  float64       \n",
            " 18  longitude             27027 non-null  float64       \n",
            " 19  intake_is_dead        27027 non-null  object        \n",
            " 20  outcome_is_dead       27027 non-null  bool          \n",
            " 21  was_outcome_alive     27027 non-null  int64         \n",
            " 22  geopoint              27027 non-null  object        \n",
            " 23  Days in Shelter       27027 non-null  float64       \n",
            " 24  Age at Intake (days)  27027 non-null  float64       \n",
            "dtypes: bool(1), datetime64[ns](3), float64(4), int64(1), object(16)\n",
            "memory usage: 5.2+ MB\n",
            "None\n"
          ]
        }
      ]
    },
    {
      "cell_type": "code",
      "source": [
        "# Create a target variable 'Adopted Within 30 Days'\n",
        "data['Adopted Within 30 Days'] = (data['Days in Shelter'] <= 30) & (data['Outcome Type'] == 'ADOPTION').astype(int)\n"
      ],
      "metadata": {
        "id": "183a8sAWcuv6"
      },
      "execution_count": 12,
      "outputs": []
    },
    {
      "cell_type": "code",
      "source": [
        "# One-hot encode categorical variables\n",
        "categorical_columns = ['Animal Type', 'Sex', 'Intake Condition', 'Intake Type']\n",
        "data_encoded = pd.get_dummies(data, columns=categorical_columns, drop_first=True)\n",
        "print(data_encoded.head())\n"
      ],
      "metadata": {
        "id": "reSgd6-acuuB",
        "colab": {
          "base_uri": "https://localhost:8080/"
        },
        "outputId": "543b4828-1616-4ebc-8c5c-03f1a040f6f4"
      },
      "execution_count": 13,
      "outputs": [
        {
          "output_type": "stream",
          "name": "stdout",
          "text": [
            "  Animal ID            Animal Name Primary Color Secondary Color        DOB  \\\n",
            "0   A664584  *OLD ENDLISH GAME HEN         BROWN             RED        NaT   \n",
            "1   A632112                 *PATSY         BLACK             NaN 2019-06-11   \n",
            "2   A613531                    NaN         WHITE             NaN 2017-11-23   \n",
            "3   A626772                 BOOGIE         BROWN            GRAY 2012-05-22   \n",
            "4   A626773                   GIGI         BLACK             NaN 2016-05-22   \n",
            "\n",
            "  Intake Date Intake Subtype Reason for Intake Outcome Date  \\\n",
            "0  2021-09-28          FIELD               NaN   2021-10-06   \n",
            "1  2019-08-17            OTC               NaN   2019-08-21   \n",
            "2  2018-08-23          FIELD               NaN   2018-08-29   \n",
            "3  2019-05-22            OTC              MOVE   2019-05-23   \n",
            "4  2019-05-22            OTC              MOVE   2019-05-23   \n",
            "\n",
            "                                   Crossing  ...  \\\n",
            "0   300 BLK E 63RD ST, LONG BEACH, CA 90802  ...   \n",
            "1  300 BLK E 67TH ST, LOPNG BEACH, CA 90805  ...   \n",
            "2   300 BLK E 69TH ST, LONG BEACH, CA 90805  ...   \n",
            "3    300 BLK E 9TH ST, LONG BEACH, CA 90813  ...   \n",
            "4    300 BLK E 9TH ST, LONG BEACH, CA 90813  ...   \n",
            "\n",
            "  Intake Type_Euthenasia Required Intake Type_FOSTER  \\\n",
            "0                           False              False   \n",
            "1                           False              False   \n",
            "2                           False              False   \n",
            "3                           False              False   \n",
            "4                           False              False   \n",
            "\n",
            "  Intake Type_OWNER SURRENDER  Intake Type_QUARANTINE  Intake Type_RETURN  \\\n",
            "0                       False                   False               False   \n",
            "1                       False                   False               False   \n",
            "2                       False                   False               False   \n",
            "3                        True                   False               False   \n",
            "4                        True                   False               False   \n",
            "\n",
            "  Intake Type_SAFE KEEP  Intake Type_STRAY  Intake Type_TRAP, NEUTER, RETURN  \\\n",
            "0                 False               True                             False   \n",
            "1                 False               True                             False   \n",
            "2                 False               True                             False   \n",
            "3                 False              False                             False   \n",
            "4                 False              False                             False   \n",
            "\n",
            "  Intake Type_WELFARE SEIZED  Intake Type_WILDLIFE  \n",
            "0                      False                 False  \n",
            "1                      False                 False  \n",
            "2                      False                 False  \n",
            "3                      False                 False  \n",
            "4                      False                 False  \n",
            "\n",
            "[5 rows x 61 columns]\n"
          ]
        }
      ]
    },
    {
      "cell_type": "code",
      "source": [
        "# Feature Scaling\n",
        "scaler = MinMaxScaler()\n",
        "data_encoded[['Age at Intake (days)', 'Days in Shelter']] = scaler.fit_transform(data_encoded[['Age at Intake (days)', 'Days in Shelter']])\n",
        "print(\"Data after scaling:\")\n",
        "print(data_encoded[['Age at Intake (days)', 'Days in Shelter']].head())\n"
      ],
      "metadata": {
        "id": "zEQsYZpFcura",
        "colab": {
          "base_uri": "https://localhost:8080/"
        },
        "outputId": "bf83be74-087e-45ff-fa9b-2989c7529c88"
      },
      "execution_count": 14,
      "outputs": [
        {
          "output_type": "stream",
          "name": "stdout",
          "text": [
            "Data after scaling:\n",
            "   Age at Intake (days)  Days in Shelter\n",
            "0              0.064241         0.007124\n",
            "1              0.023086         0.003562\n",
            "2              0.034146         0.005343\n",
            "3              0.156716         0.000890\n",
            "4              0.078278         0.000890\n"
          ]
        }
      ]
    },
    {
      "cell_type": "code",
      "source": [
        "# Select features and target variable for modeling\n",
        "X = data_encoded.drop(['Animal ID', 'Animal Name', 'Primary Color', 'Secondary Color', 'DOB', 'Intake Date',\n",
        "                       'Intake Subtype', 'Reason for Intake', 'Outcome Date', 'Crossing', 'Jurisdiction',\n",
        "                       'Outcome Type', 'Outcome Subtype', 'latitude', 'longitude', 'intake_is_dead',\n",
        "                       'outcome_is_dead', 'was_outcome_alive', 'geopoint', 'Days in Shelter',\n",
        "                       'Adopted Within 30 Days'], axis=1)\n",
        "y = data_encoded['Adopted Within 30 Days'].astype(int)\n"
      ],
      "metadata": {
        "id": "jgTXXzlSeTLv"
      },
      "execution_count": 15,
      "outputs": []
    },
    {
      "cell_type": "code",
      "source": [
        "# Split the data into training and testing sets\n",
        "X_train, X_test, y_train, y_test = train_test_split(X, y, test_size=0.2, random_state=42)\n",
        "print(\"Training and testing data split successfully.\")"
      ],
      "metadata": {
        "id": "sxH9cJmIeTHe",
        "colab": {
          "base_uri": "https://localhost:8080/"
        },
        "outputId": "f4fc070a-6dd9-42bc-c410-a45390195685"
      },
      "execution_count": 16,
      "outputs": [
        {
          "output_type": "stream",
          "name": "stdout",
          "text": [
            "Training and testing data split successfully.\n"
          ]
        }
      ]
    },
    {
      "cell_type": "code",
      "source": [
        "# Initialize SMOTE\n",
        "smote = SMOTE(random_state=42)\n",
        "X_train, y_train = smote.fit_resample(X_train, y_train)\n",
        "print(\"SMOTE applied to training data.\")\n"
      ],
      "metadata": {
        "id": "WkHbV9kuedrw",
        "colab": {
          "base_uri": "https://localhost:8080/"
        },
        "outputId": "672ef17e-8472-4d8a-fe2c-fc081f19d0ef"
      },
      "execution_count": 17,
      "outputs": [
        {
          "output_type": "stream",
          "name": "stdout",
          "text": [
            "SMOTE applied to training data.\n"
          ]
        }
      ]
    },
    {
      "cell_type": "code",
      "source": [
        "# Initialize the GBM model\n",
        "gbm_model = GradientBoostingClassifier(random_state=42)\n"
      ],
      "metadata": {
        "id": "vh6U1hCqedoh"
      },
      "execution_count": 18,
      "outputs": []
    },
    {
      "cell_type": "code",
      "source": [
        "# Hyperparameter Tuning\n",
        "param_grid = {\n",
        "    'n_estimators': [100, 200, 300],\n",
        "    'learning_rate': [0.1, 0.01, 0.001],\n",
        "    'max_depth': [3, 5, 7],\n",
        "    'subsample': [0.8, 1.0]\n",
        "}\n",
        "grid_search = GridSearchCV(estimator=gbm_model, param_grid=param_grid, cv=3, scoring='accuracy', n_jobs=-1, verbose=2)\n",
        "grid_search.fit(X_train, y_train)\n",
        "print(\"Best parameters found:\", grid_search.best_params_)\n",
        "print(\"Best cross-validation score: {:.2f}\".format(grid_search.best_score_))\n"
      ],
      "metadata": {
        "id": "jy-SS_g6edkb",
        "colab": {
          "base_uri": "https://localhost:8080/"
        },
        "outputId": "785f579e-617c-4d9a-b0b6-d2a7bb32f9fe"
      },
      "execution_count": 19,
      "outputs": [
        {
          "output_type": "stream",
          "name": "stdout",
          "text": [
            "Fitting 3 folds for each of 54 candidates, totalling 162 fits\n",
            "Best parameters found: {'learning_rate': 0.1, 'max_depth': 7, 'n_estimators': 300, 'subsample': 0.8}\n",
            "Best cross-validation score: 0.86\n"
          ]
        }
      ]
    },
    {
      "cell_type": "code",
      "source": [
        "# Best parameters and best score\n",
        "print(\"Best parameters:\", grid_search.best_params_)\n",
        "print(\"Best cross-validation score: {:.2f}\".format(grid_search.best_score_))\n"
      ],
      "metadata": {
        "id": "68Nxkm8Yeo23",
        "colab": {
          "base_uri": "https://localhost:8080/"
        },
        "outputId": "3e5725ae-4724-4610-d8d8-2369025d76bc"
      },
      "execution_count": 20,
      "outputs": [
        {
          "output_type": "stream",
          "name": "stdout",
          "text": [
            "Best parameters: {'learning_rate': 0.1, 'max_depth': 7, 'n_estimators': 300, 'subsample': 0.8}\n",
            "Best cross-validation score: 0.86\n"
          ]
        }
      ]
    },
    {
      "cell_type": "code",
      "source": [
        "# Initialize the GBM model with the best parameters\n",
        "gbm_best = GradientBoostingClassifier(**grid_search.best_params_, random_state=42)\n",
        "gbm_best.fit(X_train, y_train)\n"
      ],
      "metadata": {
        "id": "PgYf8MSqeoyf",
        "colab": {
          "base_uri": "https://localhost:8080/",
          "height": 91
        },
        "outputId": "dde57c9c-020f-4cb1-988b-3aef1d293ab9"
      },
      "execution_count": 21,
      "outputs": [
        {
          "output_type": "execute_result",
          "data": {
            "text/plain": [
              "GradientBoostingClassifier(max_depth=7, n_estimators=300, random_state=42,\n",
              "                           subsample=0.8)"
            ],
            "text/html": [
              "<style>#sk-container-id-1 {color: black;background-color: white;}#sk-container-id-1 pre{padding: 0;}#sk-container-id-1 div.sk-toggleable {background-color: white;}#sk-container-id-1 label.sk-toggleable__label {cursor: pointer;display: block;width: 100%;margin-bottom: 0;padding: 0.3em;box-sizing: border-box;text-align: center;}#sk-container-id-1 label.sk-toggleable__label-arrow:before {content: \"▸\";float: left;margin-right: 0.25em;color: #696969;}#sk-container-id-1 label.sk-toggleable__label-arrow:hover:before {color: black;}#sk-container-id-1 div.sk-estimator:hover label.sk-toggleable__label-arrow:before {color: black;}#sk-container-id-1 div.sk-toggleable__content {max-height: 0;max-width: 0;overflow: hidden;text-align: left;background-color: #f0f8ff;}#sk-container-id-1 div.sk-toggleable__content pre {margin: 0.2em;color: black;border-radius: 0.25em;background-color: #f0f8ff;}#sk-container-id-1 input.sk-toggleable__control:checked~div.sk-toggleable__content {max-height: 200px;max-width: 100%;overflow: auto;}#sk-container-id-1 input.sk-toggleable__control:checked~label.sk-toggleable__label-arrow:before {content: \"▾\";}#sk-container-id-1 div.sk-estimator input.sk-toggleable__control:checked~label.sk-toggleable__label {background-color: #d4ebff;}#sk-container-id-1 div.sk-label input.sk-toggleable__control:checked~label.sk-toggleable__label {background-color: #d4ebff;}#sk-container-id-1 input.sk-hidden--visually {border: 0;clip: rect(1px 1px 1px 1px);clip: rect(1px, 1px, 1px, 1px);height: 1px;margin: -1px;overflow: hidden;padding: 0;position: absolute;width: 1px;}#sk-container-id-1 div.sk-estimator {font-family: monospace;background-color: #f0f8ff;border: 1px dotted black;border-radius: 0.25em;box-sizing: border-box;margin-bottom: 0.5em;}#sk-container-id-1 div.sk-estimator:hover {background-color: #d4ebff;}#sk-container-id-1 div.sk-parallel-item::after {content: \"\";width: 100%;border-bottom: 1px solid gray;flex-grow: 1;}#sk-container-id-1 div.sk-label:hover label.sk-toggleable__label {background-color: #d4ebff;}#sk-container-id-1 div.sk-serial::before {content: \"\";position: absolute;border-left: 1px solid gray;box-sizing: border-box;top: 0;bottom: 0;left: 50%;z-index: 0;}#sk-container-id-1 div.sk-serial {display: flex;flex-direction: column;align-items: center;background-color: white;padding-right: 0.2em;padding-left: 0.2em;position: relative;}#sk-container-id-1 div.sk-item {position: relative;z-index: 1;}#sk-container-id-1 div.sk-parallel {display: flex;align-items: stretch;justify-content: center;background-color: white;position: relative;}#sk-container-id-1 div.sk-item::before, #sk-container-id-1 div.sk-parallel-item::before {content: \"\";position: absolute;border-left: 1px solid gray;box-sizing: border-box;top: 0;bottom: 0;left: 50%;z-index: -1;}#sk-container-id-1 div.sk-parallel-item {display: flex;flex-direction: column;z-index: 1;position: relative;background-color: white;}#sk-container-id-1 div.sk-parallel-item:first-child::after {align-self: flex-end;width: 50%;}#sk-container-id-1 div.sk-parallel-item:last-child::after {align-self: flex-start;width: 50%;}#sk-container-id-1 div.sk-parallel-item:only-child::after {width: 0;}#sk-container-id-1 div.sk-dashed-wrapped {border: 1px dashed gray;margin: 0 0.4em 0.5em 0.4em;box-sizing: border-box;padding-bottom: 0.4em;background-color: white;}#sk-container-id-1 div.sk-label label {font-family: monospace;font-weight: bold;display: inline-block;line-height: 1.2em;}#sk-container-id-1 div.sk-label-container {text-align: center;}#sk-container-id-1 div.sk-container {/* jupyter's `normalize.less` sets `[hidden] { display: none; }` but bootstrap.min.css set `[hidden] { display: none !important; }` so we also need the `!important` here to be able to override the default hidden behavior on the sphinx rendered scikit-learn.org. See: https://github.com/scikit-learn/scikit-learn/issues/21755 */display: inline-block !important;position: relative;}#sk-container-id-1 div.sk-text-repr-fallback {display: none;}</style><div id=\"sk-container-id-1\" class=\"sk-top-container\"><div class=\"sk-text-repr-fallback\"><pre>GradientBoostingClassifier(max_depth=7, n_estimators=300, random_state=42,\n",
              "                           subsample=0.8)</pre><b>In a Jupyter environment, please rerun this cell to show the HTML representation or trust the notebook. <br />On GitHub, the HTML representation is unable to render, please try loading this page with nbviewer.org.</b></div><div class=\"sk-container\" hidden><div class=\"sk-item\"><div class=\"sk-estimator sk-toggleable\"><input class=\"sk-toggleable__control sk-hidden--visually\" id=\"sk-estimator-id-1\" type=\"checkbox\" checked><label for=\"sk-estimator-id-1\" class=\"sk-toggleable__label sk-toggleable__label-arrow\">GradientBoostingClassifier</label><div class=\"sk-toggleable__content\"><pre>GradientBoostingClassifier(max_depth=7, n_estimators=300, random_state=42,\n",
              "                           subsample=0.8)</pre></div></div></div></div></div>"
            ]
          },
          "metadata": {},
          "execution_count": 21
        }
      ]
    },
    {
      "cell_type": "code",
      "source": [
        "# Evaluate the model\n",
        "y_pred = gbm_best.predict(X_test)\n",
        "print(\"Accuracy:\", accuracy_score(y_test, y_pred))\n",
        "print(\"Classification Report:\\n\", classification_report(y_test, y_pred))\n"
      ],
      "metadata": {
        "id": "PxNXwEMgeovv",
        "colab": {
          "base_uri": "https://localhost:8080/"
        },
        "outputId": "49e17d97-544c-4db6-a023-5c12233e23f1"
      },
      "execution_count": 22,
      "outputs": [
        {
          "output_type": "stream",
          "name": "stdout",
          "text": [
            "Accuracy: 0.8233444321124677\n",
            "Classification Report:\n",
            "               precision    recall  f1-score   support\n",
            "\n",
            "           0       0.96      0.84      0.90      4928\n",
            "           1       0.28      0.65      0.39       478\n",
            "\n",
            "    accuracy                           0.82      5406\n",
            "   macro avg       0.62      0.74      0.64      5406\n",
            "weighted avg       0.90      0.82      0.85      5406\n",
            "\n"
          ]
        }
      ]
    },
    {
      "cell_type": "code",
      "source": [
        "# Confusion Matrix\n",
        "conf_mat = confusion_matrix(y_test, y_pred)\n",
        "sns.heatmap(conf_mat, annot=True, fmt='d', cmap='Blues')\n",
        "plt.title('Confusion Matrix')\n",
        "plt.xlabel('Predicted Labels')\n",
        "plt.ylabel('True Labels')\n",
        "plt.show()"
      ],
      "metadata": {
        "id": "6ELrLyDPevsC",
        "colab": {
          "base_uri": "https://localhost:8080/",
          "height": 472
        },
        "outputId": "7b22e44b-a18e-4fc4-c02b-247a4abaff25"
      },
      "execution_count": 23,
      "outputs": [
        {
          "output_type": "display_data",
          "data": {
            "text/plain": [
              "<Figure size 640x480 with 2 Axes>"
            ],
            "image/png": "[encoded data removed]"
          },
          "metadata": {}
        }
      ]
    },
    {
      "cell_type": "code",
      "source": [
        "# ROC Curve\n",
        "y_proba = gbm_best.predict_proba(X_test)[:, 1]\n",
        "fpr, tpr, _ = roc_curve(y_test, y_proba)\n",
        "plt.plot(fpr, tpr)\n",
        "plt.title('ROC Curve')\n",
        "plt.xlabel('False Positive Rate')\n",
        "plt.ylabel('True Positive Rate')\n",
        "plt.show()"
      ],
      "metadata": {
        "id": "FBD97fBrevqX",
        "colab": {
          "base_uri": "https://localhost:8080/",
          "height": 472
        },
        "outputId": "37f9c94c-03bd-41c7-9e06-09fd0cf00be5"
      },
      "execution_count": 24,
      "outputs": [
        {
          "output_type": "display_data",
          "data": {
            "text/plain": [
              "<Figure size 640x480 with 1 Axes>"
            ],
            "image/png": "[encoded data removed]"
          },
          "metadata": {}
        }
      ]
    },
    {
      "cell_type": "code",
      "source": [
        "# AUC Score\n",
        "auc_score = roc_auc_score(y_test, y_proba)\n",
        "print(\"ROC-AUC Score:\", auc_score)"
      ],
      "metadata": {
        "id": "QybkrThnevgU",
        "colab": {
          "base_uri": "https://localhost:8080/"
        },
        "outputId": "13021b73-220a-48d1-a613-78e075422cf1"
      },
      "execution_count": 25,
      "outputs": [
        {
          "output_type": "stream",
          "name": "stdout",
          "text": [
            "ROC-AUC Score: 0.8428595626392434\n"
          ]
        }
      ]
    },
    {
      "cell_type": "code",
      "source": [
        "# Assuming data_encoded already contains the processed data\n",
        "\n",
        "# Select features and target variable for modeling\n",
        "X = data_encoded.drop(['Animal ID', 'Animal Name', 'Primary Color', 'Secondary Color', 'DOB', 'Intake Date',\n",
        "                       'Intake Subtype', 'Reason for Intake', 'Outcome Date', 'Crossing', 'Jurisdiction',\n",
        "                       'Outcome Type', 'Outcome Subtype', 'latitude', 'longitude', 'intake_is_dead',\n",
        "                       'outcome_is_dead', 'was_outcome_alive', 'geopoint', 'Days in Shelter',\n",
        "                       'Adopted Within 30 Days'], axis=1)\n",
        "\n",
        "# Now display the features used in the model\n",
        "print(\"Features used in the model:\", X.columns.tolist())\n"
      ],
      "metadata": {
        "colab": {
          "base_uri": "https://localhost:8080/"
        },
        "id": "UFtSq_nsO7cU",
        "outputId": "4cefc9db-69a8-4060-c16c-540aa9fbc354"
      },
      "execution_count": 26,
      "outputs": [
        {
          "output_type": "stream",
          "name": "stdout",
          "text": [
            "Features used in the model: ['Age at Intake (days)', 'Animal Type_BIRD', 'Animal Type_CAT', 'Animal Type_DOG', 'Animal Type_GUINEA PIG', 'Animal Type_LIVESTOCK', 'Animal Type_OTHER', 'Animal Type_RABBIT', 'Animal Type_REPTILE', 'Animal Type_WILD', 'Sex_Male', 'Sex_Neutered', 'Sex_Spayed', 'Sex_Unknown', 'Intake Condition_BEHAVIOR  MILD', 'Intake Condition_BEHAVIOR  MODERATE', 'Intake Condition_BEHAVIOR  SEVERE', 'Intake Condition_FERAL', 'Intake Condition_FRACTIOUS', 'Intake Condition_I/I REPORT', 'Intake Condition_ILL MILD', 'Intake Condition_ILL MODERATETE', 'Intake Condition_ILL SEVERE', 'Intake Condition_INJURED  MILD', 'Intake Condition_INJURED  MODERATE', 'Intake Condition_INJURED  SEVERE', 'Intake Condition_NORMAL', 'Intake Condition_UNDER AGE/WEIGHT', 'Intake Condition_WELFARE SEIZURES', 'Intake Type_CONFISCATE', 'Intake Type_Euthenasia Required', 'Intake Type_FOSTER', 'Intake Type_OWNER SURRENDER', 'Intake Type_QUARANTINE', 'Intake Type_RETURN', 'Intake Type_SAFE KEEP', 'Intake Type_STRAY', 'Intake Type_TRAP, NEUTER, RETURN', 'Intake Type_WELFARE SEIZED', 'Intake Type_WILDLIFE']\n"
          ]
        }
      ]
    },
    {
      "cell_type": "code",
      "source": [
        "# features and target variable for model\n",
        "X = data_encoded.drop(['Animal ID', 'Animal Name', 'Primary Color', 'Secondary Color', 'DOB', 'Intake Date',\n",
        "                       'Intake Subtype', 'Reason for Intake', 'Outcome Date', 'Crossing', 'Jurisdiction',\n",
        "                       'Outcome Type', 'Outcome Subtype', 'latitude', 'longitude', 'intake_is_dead',\n",
        "                       'outcome_is_dead', 'was_outcome_alive', 'geopoint', 'Days in Shelter',\n",
        "                       'Adopted Within 30 Days'], axis=1)\n",
        "\n",
        "feature_df = pd.DataFrame(X.columns, columns=['Model Features'])\n",
        "\n",
        "print(feature_df)"
      ],
      "metadata": {
        "colab": {
          "base_uri": "https://localhost:8080/"
        },
        "id": "Jx6tbTfdYP3C",
        "outputId": "3a5a3197-a1bc-4cf3-f8e4-85318ae84b46"
      },
      "execution_count": 27,
      "outputs": [
        {
          "output_type": "stream",
          "name": "stdout",
          "text": [
            "                         Model Features\n",
            "0                  Age at Intake (days)\n",
            "1                      Animal Type_BIRD\n",
            "2                       Animal Type_CAT\n",
            "3                       Animal Type_DOG\n",
            "4                Animal Type_GUINEA PIG\n",
            "5                 Animal Type_LIVESTOCK\n",
            "6                     Animal Type_OTHER\n",
            "7                    Animal Type_RABBIT\n",
            "8                   Animal Type_REPTILE\n",
            "9                      Animal Type_WILD\n",
            "10                             Sex_Male\n",
            "11                         Sex_Neutered\n",
            "12                           Sex_Spayed\n",
            "13                          Sex_Unknown\n",
            "14      Intake Condition_BEHAVIOR  MILD\n",
            "15  Intake Condition_BEHAVIOR  MODERATE\n",
            "16    Intake Condition_BEHAVIOR  SEVERE\n",
            "17               Intake Condition_FERAL\n",
            "18           Intake Condition_FRACTIOUS\n",
            "19          Intake Condition_I/I REPORT\n",
            "20            Intake Condition_ILL MILD\n",
            "21      Intake Condition_ILL MODERATETE\n",
            "22          Intake Condition_ILL SEVERE\n",
            "23       Intake Condition_INJURED  MILD\n",
            "24   Intake Condition_INJURED  MODERATE\n",
            "25     Intake Condition_INJURED  SEVERE\n",
            "26              Intake Condition_NORMAL\n",
            "27    Intake Condition_UNDER AGE/WEIGHT\n",
            "28    Intake Condition_WELFARE SEIZURES\n",
            "29               Intake Type_CONFISCATE\n",
            "30      Intake Type_Euthenasia Required\n",
            "31                   Intake Type_FOSTER\n",
            "32          Intake Type_OWNER SURRENDER\n",
            "33               Intake Type_QUARANTINE\n",
            "34                   Intake Type_RETURN\n",
            "35                Intake Type_SAFE KEEP\n",
            "36                    Intake Type_STRAY\n",
            "37     Intake Type_TRAP, NEUTER, RETURN\n",
            "38           Intake Type_WELFARE SEIZED\n",
            "39                 Intake Type_WILDLIFE\n"
          ]
        }
      ]
    }
  ]
}